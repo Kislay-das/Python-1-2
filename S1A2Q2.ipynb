{
 "cells": [
  {
   "cell_type": "code",
   "execution_count": 8,
   "metadata": {},
   "outputs": [
    {
     "name": "stdout",
     "output_type": "stream",
     "text": [
      "\n",
      "* \n",
      "* * \n",
      "* * * \n",
      "* * * * \n",
      "* * * * * \n",
      "* * * * \n",
      "* * * \n",
      "* * \n",
      "* \n"
     ]
    }
   ],
   "source": [
    "'''\n",
    "Create the below pattern using nested for loop in Python.\n",
    "\n",
    "*\n",
    "* *\n",
    "* * *\n",
    "* * * *\n",
    "* * * * *\n",
    "* * * *\n",
    "* * *\n",
    "* *\n",
    "*\n",
    "'''\n",
    "for i in range(6):              # iterate variable i in range (0,6)\n",
    "    for j in range(i):          # iterate variable j in range (0,i)\n",
    "        print('*', end=' ')     # print * till j=i-1 and end with space instead of new line\n",
    "    print('')                   # go to new line once j=i-1\n",
    "for i in range(4):              # iterate variable i in range (0,4)\n",
    "    for j in range(4-i):        # iterate variable j in range (0,4-i)\n",
    "        print('*', end=' ')     # print * till j=4-i-1 and end with space instead of new line\n",
    "    print('')                   # go to new line"
   ]
  },
  {
   "cell_type": "code",
   "execution_count": 1,
   "metadata": {},
   "outputs": [
    {
     "name": "stdout",
     "output_type": "stream",
     "text": [
      "Help on built-in function print in module builtins:\n",
      "\n",
      "print(...)\n",
      "    print(value, ..., sep=' ', end='\\n', file=sys.stdout, flush=False)\n",
      "    \n",
      "    Prints the values to a stream, or to sys.stdout by default.\n",
      "    Optional keyword arguments:\n",
      "    file:  a file-like object (stream); defaults to the current sys.stdout.\n",
      "    sep:   string inserted between values, default a space.\n",
      "    end:   string appended after the last value, default a newline.\n",
      "    flush: whether to forcibly flush the stream.\n",
      "\n"
     ]
    }
   ],
   "source": [
    "help(print)"
   ]
  }
 ],
 "metadata": {
  "kernelspec": {
   "display_name": "Python 3",
   "language": "python",
   "name": "python3"
  },
  "language_info": {
   "codemirror_mode": {
    "name": "ipython",
    "version": 3
   },
   "file_extension": ".py",
   "mimetype": "text/x-python",
   "name": "python",
   "nbconvert_exporter": "python",
   "pygments_lexer": "ipython3",
   "version": "3.6.5"
  }
 },
 "nbformat": 4,
 "nbformat_minor": 2
}

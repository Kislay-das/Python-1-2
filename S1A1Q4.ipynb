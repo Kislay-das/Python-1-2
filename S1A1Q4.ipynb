{
 "cells": [
  {
   "cell_type": "code",
   "execution_count": 1,
   "metadata": {},
   "outputs": [
    {
     "name": "stdout",
     "output_type": "stream",
     "text": [
      "Enter radius of sphere 6\n",
      "Volumne of sphere with radius as 6.0 is  904.3199999999999\n"
     ]
    }
   ],
   "source": [
    "'''\n",
    "Python program to find the volume of a sphere with diameter 12 cm.\n",
    "Formula: V=4/3 * π * r\n",
    "3\n",
    "'''\n",
    "PI=3.14                                         # initialise value of PI\n",
    "radius=float(input(\"Enter radius of sphere \"))  #take value of radius from user and convert input to float\n",
    "Vol=(4/3)*PI*radius**3                          # calculate volume\n",
    "print(\"Volumne of sphere with radius as \"+str(radius)+\" is \", Vol)  #print volume"
   ]
  }
 ],
 "metadata": {
  "kernelspec": {
   "display_name": "Python 3",
   "language": "python",
   "name": "python3"
  },
  "language_info": {
   "codemirror_mode": {
    "name": "ipython",
    "version": 3
   },
   "file_extension": ".py",
   "mimetype": "text/x-python",
   "name": "python",
   "nbconvert_exporter": "python",
   "pygments_lexer": "ipython3",
   "version": "3.6.5"
  }
 },
 "nbformat": 4,
 "nbformat_minor": 2
}
